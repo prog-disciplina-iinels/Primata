{
 "cells": [
  {
   "cell_type": "markdown",
   "metadata": {},
   "source": [
    "# Primatas\n",
    "    Entradas:\n",
    "        -habituado: indicar se o animal está ou não habituado\n",
    "         type:bool\n",
    "        -aproximacaoTotal: quanto foi a aproximação do animal em relação à barra\n",
    "         type:int\n",
    "        -listaSom: lista com os sons escutados pelo animal. Valores de cada elemento: 1, equivalendo ao som 1 ou 0 equivalendo ao som 2\n",
    "        -type:list\n",
    "        -listaLado: lista com os lados escolhidos pelo animal. Valores de cada elemento: 1, equivalendo ao lado Esquerdo ou 0 equivalendo ao lado direito\n",
    "        -type:list\n",
    "    Saídas:\n",
    "        True - o experiemento foi um sucesso\n",
    "        False - ocorreu algum erro durante a execução do mesmo"
   ]
  },
  {
   "cell_type": "code",
   "execution_count": 1,
   "metadata": {},
   "outputs": [],
   "source": [
    "from numpy import random as rd"
   ]
  },
  {
   "cell_type": "code",
   "execution_count": 3,
   "metadata": {},
   "outputs": [],
   "source": [
    "def EstaHabituado(habituado = 1):\n",
    "    return True if habituado == 1 else False"
   ]
  },
  {
   "cell_type": "code",
   "execution_count": 19,
   "metadata": {},
   "outputs": [],
   "source": [
    "def PrimeiraEtapa(habituado, aproximacaoTotal):\n",
    "    \n",
    "    agua = 0\n",
    "    \n",
    "    if(not EstaHabituado(habituado)):\n",
    "        print(\"O animal não está habituado\")\n",
    "        return False\n",
    "    \n",
    "    if (aproximacaoTotal > 30) or (aproximacaoTotal < 0):\n",
    "        print(\"Valor de aproximação inválido\")\n",
    "        return False\n",
    "    else:\n",
    "        distancia = 30\n",
    "        distancia -= aproximacaoTotal\n",
    "        \n",
    "        if distancia == 0:\n",
    "            agua = 0.5\n",
    "            print(\"O animal toca a barra\")\n",
    "            \n",
    "            return [agua, True]\n",
    "    return [agua, True]"
   ]
  },
  {
   "cell_type": "code",
   "execution_count": 22,
   "metadata": {},
   "outputs": [],
   "source": [
    "def SegundaEtapa(habituado, aproximacaoTotal, listaSom, listaLado, tempo):\n",
    "    \n",
    "    agua = 0.0\n",
    "    \n",
    "    if(not EstaHabituado(habituado)):\n",
    "        print(\"O animal não está habituado\")\n",
    "        return False\n",
    "    \n",
    "    if len(listaSom) != len(listaLado):\n",
    "        print(\"As listas precisam ter o mesmo tamanho\")\n",
    "        return False\n",
    "    if(PrimeiraEtapa(habituado, aproximacaoTotal)[1]):\n",
    "        for i in range(len(listaSom)):\n",
    "            if((listaSom[i] and listaLado[i]) or (not listaSom[i] and not listaLado[i])):\n",
    "                agua += 0.5\n",
    "                \n",
    "        print(\"O animal recebeu %i ml de água\" %agua)\n",
    "        if(tempo >= 30):\n",
    "            print(\"O animal conseguiu realizar todas as etapas\")\n",
    "            return True\n",
    "        else:\n",
    "            print(\"O animal não terminou a última etapa em tempo hábil\")\n",
    "            "
   ]
  },
  {
   "cell_type": "markdown",
   "metadata": {},
   "source": [
    "### Exemplo de execução"
   ]
  },
  {
   "cell_type": "code",
   "execution_count": 24,
   "metadata": {},
   "outputs": [
    {
     "name": "stdout",
     "output_type": "stream",
     "text": [
      "O animal não está habituado\n"
     ]
    },
    {
     "data": {
      "text/plain": [
       "False"
      ]
     },
     "execution_count": 24,
     "metadata": {},
     "output_type": "execute_result"
    }
   ],
   "source": [
    "SegundaEtapa(0, 30, [1, 1, 1], [1, 1, 1], 50)"
   ]
  }
 ],
 "metadata": {
  "kernelspec": {
   "display_name": "Python 3",
   "language": "python",
   "name": "python3"
  },
  "language_info": {
   "codemirror_mode": {
    "name": "ipython",
    "version": 3
   },
   "file_extension": ".py",
   "mimetype": "text/x-python",
   "name": "python",
   "nbconvert_exporter": "python",
   "pygments_lexer": "ipython3",
   "version": "3.7.3"
  }
 },
 "nbformat": 4,
 "nbformat_minor": 2
}
